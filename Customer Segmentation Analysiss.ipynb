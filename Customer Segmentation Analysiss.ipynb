{
 "cells": [
  {
   "cell_type": "markdown",
   "id": "29dca1a7",
   "metadata": {},
   "source": [
    "### at first i'm importing some important python lybraries for manupulating and understad the data"
   ]
  },
  {
   "cell_type": "code",
   "execution_count": 1,
   "id": "8091a91a",
   "metadata": {},
   "outputs": [],
   "source": [
    "import pandas as pd\n",
    "import numpy as np\n",
    "import matplotlib.pyplot as plt"
   ]
  },
  {
   "cell_type": "markdown",
   "id": "d780be4d",
   "metadata": {},
   "source": [
    "### Importing the transaction dataset"
   ]
  },
  {
   "cell_type": "code",
   "execution_count": 2,
   "id": "43922ce2",
   "metadata": {},
   "outputs": [],
   "source": [
    "data = pd.read_csv(\"C:\\\\Users\\Education\\\\Downloads\\\\transaction_data.csv\")"
   ]
  },
  {
   "cell_type": "markdown",
   "id": "9cc4118d",
   "metadata": {},
   "source": [
    "### Get the Top five rows for understand the features of the data"
   ]
  },
  {
   "cell_type": "code",
   "execution_count": 3,
   "id": "871a5368",
   "metadata": {},
   "outputs": [
    {
     "data": {
      "text/html": [
       "<div>\n",
       "<style scoped>\n",
       "    .dataframe tbody tr th:only-of-type {\n",
       "        vertical-align: middle;\n",
       "    }\n",
       "\n",
       "    .dataframe tbody tr th {\n",
       "        vertical-align: top;\n",
       "    }\n",
       "\n",
       "    .dataframe thead th {\n",
       "        text-align: right;\n",
       "    }\n",
       "</style>\n",
       "<table border=\"1\" class=\"dataframe\">\n",
       "  <thead>\n",
       "    <tr style=\"text-align: right;\">\n",
       "      <th></th>\n",
       "      <th>CustomerID</th>\n",
       "      <th>TransactionDate</th>\n",
       "      <th>ProductID</th>\n",
       "      <th>ProductCategory</th>\n",
       "      <th>Quantity</th>\n",
       "      <th>UnitPrice</th>\n",
       "      <th>TotalPrice</th>\n",
       "    </tr>\n",
       "  </thead>\n",
       "  <tbody>\n",
       "    <tr>\n",
       "      <th>0</th>\n",
       "      <td>C0098</td>\n",
       "      <td>2021-01-29</td>\n",
       "      <td>P006</td>\n",
       "      <td>Electronics</td>\n",
       "      <td>4</td>\n",
       "      <td>34.967067</td>\n",
       "      <td>139.868266</td>\n",
       "    </tr>\n",
       "    <tr>\n",
       "      <th>1</th>\n",
       "      <td>C0085</td>\n",
       "      <td>2021-03-06</td>\n",
       "      <td>P019</td>\n",
       "      <td>Home Decor</td>\n",
       "      <td>1</td>\n",
       "      <td>97.542961</td>\n",
       "      <td>97.542961</td>\n",
       "    </tr>\n",
       "    <tr>\n",
       "      <th>2</th>\n",
       "      <td>C0082</td>\n",
       "      <td>2020-02-11</td>\n",
       "      <td>P016</td>\n",
       "      <td>Clothing</td>\n",
       "      <td>2</td>\n",
       "      <td>79.059159</td>\n",
       "      <td>158.118317</td>\n",
       "    </tr>\n",
       "    <tr>\n",
       "      <th>3</th>\n",
       "      <td>C0060</td>\n",
       "      <td>2020-09-22</td>\n",
       "      <td>P003</td>\n",
       "      <td>Clothing</td>\n",
       "      <td>1</td>\n",
       "      <td>74.293252</td>\n",
       "      <td>74.293252</td>\n",
       "    </tr>\n",
       "    <tr>\n",
       "      <th>4</th>\n",
       "      <td>C0018</td>\n",
       "      <td>2021-06-07</td>\n",
       "      <td>P012</td>\n",
       "      <td>Home Decor</td>\n",
       "      <td>2</td>\n",
       "      <td>35.479492</td>\n",
       "      <td>70.958983</td>\n",
       "    </tr>\n",
       "  </tbody>\n",
       "</table>\n",
       "</div>"
      ],
      "text/plain": [
       "  CustomerID TransactionDate ProductID ProductCategory  Quantity  UnitPrice  \\\n",
       "0      C0098      2021-01-29      P006     Electronics         4  34.967067   \n",
       "1      C0085      2021-03-06      P019      Home Decor         1  97.542961   \n",
       "2      C0082      2020-02-11      P016        Clothing         2  79.059159   \n",
       "3      C0060      2020-09-22      P003        Clothing         1  74.293252   \n",
       "4      C0018      2021-06-07      P012      Home Decor         2  35.479492   \n",
       "\n",
       "   TotalPrice  \n",
       "0  139.868266  \n",
       "1   97.542961  \n",
       "2  158.118317  \n",
       "3   74.293252  \n",
       "4   70.958983  "
      ]
     },
     "execution_count": 3,
     "metadata": {},
     "output_type": "execute_result"
    }
   ],
   "source": [
    "# getting top five records of our data\n",
    "data.head()"
   ]
  },
  {
   "cell_type": "code",
   "execution_count": 4,
   "id": "e72e9817",
   "metadata": {},
   "outputs": [
    {
     "data": {
      "text/plain": [
       "(1000, 7)"
      ]
     },
     "execution_count": 4,
     "metadata": {},
     "output_type": "execute_result"
    }
   ],
   "source": [
    "# for getting number of rows and columns in data\n",
    "data.shape"
   ]
  },
  {
   "cell_type": "code",
   "execution_count": 7,
   "id": "9a8621da",
   "metadata": {},
   "outputs": [
    {
     "data": {
      "text/html": [
       "<div>\n",
       "<style scoped>\n",
       "    .dataframe tbody tr th:only-of-type {\n",
       "        vertical-align: middle;\n",
       "    }\n",
       "\n",
       "    .dataframe tbody tr th {\n",
       "        vertical-align: top;\n",
       "    }\n",
       "\n",
       "    .dataframe thead th {\n",
       "        text-align: right;\n",
       "    }\n",
       "</style>\n",
       "<table border=\"1\" class=\"dataframe\">\n",
       "  <thead>\n",
       "    <tr style=\"text-align: right;\">\n",
       "      <th></th>\n",
       "      <th>Quantity</th>\n",
       "      <th>UnitPrice</th>\n",
       "      <th>TotalPrice</th>\n",
       "    </tr>\n",
       "  </thead>\n",
       "  <tbody>\n",
       "    <tr>\n",
       "      <th>count</th>\n",
       "      <td>1000.000000</td>\n",
       "      <td>1000.000000</td>\n",
       "      <td>1000.000000</td>\n",
       "    </tr>\n",
       "    <tr>\n",
       "      <th>mean</th>\n",
       "      <td>2.990000</td>\n",
       "      <td>55.960677</td>\n",
       "      <td>166.511292</td>\n",
       "    </tr>\n",
       "    <tr>\n",
       "      <th>std</th>\n",
       "      <td>1.404946</td>\n",
       "      <td>26.058396</td>\n",
       "      <td>115.650641</td>\n",
       "    </tr>\n",
       "    <tr>\n",
       "      <th>min</th>\n",
       "      <td>1.000000</td>\n",
       "      <td>10.033286</td>\n",
       "      <td>10.033286</td>\n",
       "    </tr>\n",
       "    <tr>\n",
       "      <th>25%</th>\n",
       "      <td>2.000000</td>\n",
       "      <td>32.536836</td>\n",
       "      <td>73.543009</td>\n",
       "    </tr>\n",
       "    <tr>\n",
       "      <th>50%</th>\n",
       "      <td>3.000000</td>\n",
       "      <td>56.755230</td>\n",
       "      <td>136.253990</td>\n",
       "    </tr>\n",
       "    <tr>\n",
       "      <th>75%</th>\n",
       "      <td>4.000000</td>\n",
       "      <td>78.561361</td>\n",
       "      <td>243.645034</td>\n",
       "    </tr>\n",
       "    <tr>\n",
       "      <th>max</th>\n",
       "      <td>5.000000</td>\n",
       "      <td>99.909348</td>\n",
       "      <td>499.489014</td>\n",
       "    </tr>\n",
       "  </tbody>\n",
       "</table>\n",
       "</div>"
      ],
      "text/plain": [
       "          Quantity    UnitPrice   TotalPrice\n",
       "count  1000.000000  1000.000000  1000.000000\n",
       "mean      2.990000    55.960677   166.511292\n",
       "std       1.404946    26.058396   115.650641\n",
       "min       1.000000    10.033286    10.033286\n",
       "25%       2.000000    32.536836    73.543009\n",
       "50%       3.000000    56.755230   136.253990\n",
       "75%       4.000000    78.561361   243.645034\n",
       "max       5.000000    99.909348   499.489014"
      ]
     },
     "execution_count": 7,
     "metadata": {},
     "output_type": "execute_result"
    }
   ],
   "source": [
    "# getting the basic statistical information abour our dataset\n",
    "data.describe()"
   ]
  },
  {
   "cell_type": "code",
   "execution_count": 8,
   "id": "3a785b91",
   "metadata": {},
   "outputs": [
    {
     "name": "stdout",
     "output_type": "stream",
     "text": [
      "<class 'pandas.core.frame.DataFrame'>\n",
      "RangeIndex: 1000 entries, 0 to 999\n",
      "Data columns (total 7 columns):\n",
      " #   Column           Non-Null Count  Dtype  \n",
      "---  ------           --------------  -----  \n",
      " 0   CustomerID       1000 non-null   object \n",
      " 1   TransactionDate  1000 non-null   object \n",
      " 2   ProductID        1000 non-null   object \n",
      " 3   ProductCategory  1000 non-null   object \n",
      " 4   Quantity         1000 non-null   int64  \n",
      " 5   UnitPrice        1000 non-null   float64\n",
      " 6   TotalPrice       1000 non-null   float64\n",
      "dtypes: float64(2), int64(1), object(4)\n",
      "memory usage: 54.8+ KB\n"
     ]
    }
   ],
   "source": [
    "data.info()"
   ]
  },
  {
   "cell_type": "code",
   "execution_count": 9,
   "id": "ad22e913",
   "metadata": {},
   "outputs": [
    {
     "data": {
      "text/html": [
       "<div>\n",
       "<style scoped>\n",
       "    .dataframe tbody tr th:only-of-type {\n",
       "        vertical-align: middle;\n",
       "    }\n",
       "\n",
       "    .dataframe tbody tr th {\n",
       "        vertical-align: top;\n",
       "    }\n",
       "\n",
       "    .dataframe thead th {\n",
       "        text-align: right;\n",
       "    }\n",
       "</style>\n",
       "<table border=\"1\" class=\"dataframe\">\n",
       "  <thead>\n",
       "    <tr style=\"text-align: right;\">\n",
       "      <th></th>\n",
       "      <th>CustomerID</th>\n",
       "      <th>TransactionDate</th>\n",
       "      <th>ProductID</th>\n",
       "      <th>ProductCategory</th>\n",
       "      <th>Quantity</th>\n",
       "      <th>UnitPrice</th>\n",
       "      <th>TotalPrice</th>\n",
       "    </tr>\n",
       "  </thead>\n",
       "  <tbody>\n",
       "    <tr>\n",
       "      <th>0</th>\n",
       "      <td>C0098</td>\n",
       "      <td>2021-01-29</td>\n",
       "      <td>P006</td>\n",
       "      <td>Electronics</td>\n",
       "      <td>4</td>\n",
       "      <td>34.967067</td>\n",
       "      <td>139.868266</td>\n",
       "    </tr>\n",
       "    <tr>\n",
       "      <th>1</th>\n",
       "      <td>C0085</td>\n",
       "      <td>2021-03-06</td>\n",
       "      <td>P019</td>\n",
       "      <td>Home Decor</td>\n",
       "      <td>1</td>\n",
       "      <td>97.542961</td>\n",
       "      <td>97.542961</td>\n",
       "    </tr>\n",
       "    <tr>\n",
       "      <th>2</th>\n",
       "      <td>C0082</td>\n",
       "      <td>2020-02-11</td>\n",
       "      <td>P016</td>\n",
       "      <td>Clothing</td>\n",
       "      <td>2</td>\n",
       "      <td>79.059159</td>\n",
       "      <td>158.118317</td>\n",
       "    </tr>\n",
       "    <tr>\n",
       "      <th>3</th>\n",
       "      <td>C0060</td>\n",
       "      <td>2020-09-22</td>\n",
       "      <td>P003</td>\n",
       "      <td>Clothing</td>\n",
       "      <td>1</td>\n",
       "      <td>74.293252</td>\n",
       "      <td>74.293252</td>\n",
       "    </tr>\n",
       "    <tr>\n",
       "      <th>4</th>\n",
       "      <td>C0018</td>\n",
       "      <td>2021-06-07</td>\n",
       "      <td>P012</td>\n",
       "      <td>Home Decor</td>\n",
       "      <td>2</td>\n",
       "      <td>35.479492</td>\n",
       "      <td>70.958983</td>\n",
       "    </tr>\n",
       "  </tbody>\n",
       "</table>\n",
       "</div>"
      ],
      "text/plain": [
       "  CustomerID TransactionDate ProductID ProductCategory  Quantity  UnitPrice  \\\n",
       "0      C0098      2021-01-29      P006     Electronics         4  34.967067   \n",
       "1      C0085      2021-03-06      P019      Home Decor         1  97.542961   \n",
       "2      C0082      2020-02-11      P016        Clothing         2  79.059159   \n",
       "3      C0060      2020-09-22      P003        Clothing         1  74.293252   \n",
       "4      C0018      2021-06-07      P012      Home Decor         2  35.479492   \n",
       "\n",
       "   TotalPrice  \n",
       "0  139.868266  \n",
       "1   97.542961  \n",
       "2  158.118317  \n",
       "3   74.293252  \n",
       "4   70.958983  "
      ]
     },
     "execution_count": 9,
     "metadata": {},
     "output_type": "execute_result"
    }
   ],
   "source": [
    "data.head()"
   ]
  },
  {
   "cell_type": "code",
   "execution_count": 10,
   "id": "bd360da0",
   "metadata": {},
   "outputs": [
    {
     "data": {
      "text/plain": [
       "CustomerID         0\n",
       "TransactionDate    0\n",
       "ProductID          0\n",
       "ProductCategory    0\n",
       "Quantity           0\n",
       "UnitPrice          0\n",
       "TotalPrice         0\n",
       "dtype: int64"
      ]
     },
     "execution_count": 10,
     "metadata": {},
     "output_type": "execute_result"
    }
   ],
   "source": [
    "data.isnull().sum()"
   ]
  },
  {
   "cell_type": "code",
   "execution_count": 11,
   "id": "51169b55",
   "metadata": {},
   "outputs": [],
   "source": [
    "# we can see that there are no null values present in the dataset "
   ]
  },
  {
   "cell_type": "code",
   "execution_count": 23,
   "id": "adf5ad3a",
   "metadata": {},
   "outputs": [
    {
     "data": {
      "text/plain": [
       "<bound method NDFrame.astype of 0     2021-01-29\n",
       "1     2021-03-06\n",
       "2     2020-02-11\n",
       "3     2020-09-22\n",
       "4     2021-06-07\n",
       "         ...    \n",
       "995   2021-03-25\n",
       "996   2020-07-28\n",
       "997   2021-08-23\n",
       "998   2021-12-28\n",
       "999   2020-02-20\n",
       "Name: TransactionDate, Length: 1000, dtype: datetime64[ns]>"
      ]
     },
     "execution_count": 23,
     "metadata": {},
     "output_type": "execute_result"
    }
   ],
   "source": [
    "data[\"TransactionDate\"].astype"
   ]
  },
  {
   "cell_type": "markdown",
   "id": "048f168e",
   "metadata": {},
   "source": [
    "### BY the above code  we can see that the Transation Date column's Datatype is Object but for Analys the data  we have to change it's Datatype as Datetime"
   ]
  },
  {
   "cell_type": "code",
   "execution_count": null,
   "id": "e04cc5c9",
   "metadata": {},
   "outputs": [],
   "source": [
    "# we'll change it's Datatype"
   ]
  },
  {
   "cell_type": "code",
   "execution_count": 22,
   "id": "48c28f0b",
   "metadata": {},
   "outputs": [
    {
     "data": {
      "text/plain": [
       "<bound method NDFrame.astype of 0     2021-01-29\n",
       "1     2021-03-06\n",
       "2     2020-02-11\n",
       "3     2020-09-22\n",
       "4     2021-06-07\n",
       "         ...    \n",
       "995   2021-03-25\n",
       "996   2020-07-28\n",
       "997   2021-08-23\n",
       "998   2021-12-28\n",
       "999   2020-02-20\n",
       "Name: TransactionDate, Length: 1000, dtype: datetime64[ns]>"
      ]
     },
     "execution_count": 22,
     "metadata": {},
     "output_type": "execute_result"
    }
   ],
   "source": [
    "data[\"TransactionDate\"] = pd.to_datetime(data[\"TransactionDate\"])\n",
    "data.TransactionDate.astype\n",
    "\n"
   ]
  },
  {
   "cell_type": "code",
   "execution_count": 27,
   "id": "5c515269",
   "metadata": {},
   "outputs": [
    {
     "data": {
      "text/plain": [
       "array(['Electronics', 'Home Decor', 'Clothing', 'Books'], dtype=object)"
      ]
     },
     "execution_count": 27,
     "metadata": {},
     "output_type": "execute_result"
    }
   ],
   "source": [
    "data[\"ProductCategory\"].unique()\n",
    "\n",
    "# so basically we have  4 Product categories in our dataset"
   ]
  },
  {
   "cell_type": "code",
   "execution_count": 28,
   "id": "10690445",
   "metadata": {},
   "outputs": [
    {
     "data": {
      "text/html": [
       "<div>\n",
       "<style scoped>\n",
       "    .dataframe tbody tr th:only-of-type {\n",
       "        vertical-align: middle;\n",
       "    }\n",
       "\n",
       "    .dataframe tbody tr th {\n",
       "        vertical-align: top;\n",
       "    }\n",
       "\n",
       "    .dataframe thead th {\n",
       "        text-align: right;\n",
       "    }\n",
       "</style>\n",
       "<table border=\"1\" class=\"dataframe\">\n",
       "  <thead>\n",
       "    <tr style=\"text-align: right;\">\n",
       "      <th></th>\n",
       "      <th>CustomerID</th>\n",
       "      <th>TransactionDate</th>\n",
       "      <th>ProductID</th>\n",
       "      <th>ProductCategory</th>\n",
       "      <th>Quantity</th>\n",
       "      <th>UnitPrice</th>\n",
       "      <th>TotalPrice</th>\n",
       "    </tr>\n",
       "  </thead>\n",
       "  <tbody>\n",
       "    <tr>\n",
       "      <th>0</th>\n",
       "      <td>C0098</td>\n",
       "      <td>2021-01-29</td>\n",
       "      <td>P006</td>\n",
       "      <td>Electronics</td>\n",
       "      <td>4</td>\n",
       "      <td>34.967067</td>\n",
       "      <td>139.868266</td>\n",
       "    </tr>\n",
       "    <tr>\n",
       "      <th>1</th>\n",
       "      <td>C0085</td>\n",
       "      <td>2021-03-06</td>\n",
       "      <td>P019</td>\n",
       "      <td>Home Decor</td>\n",
       "      <td>1</td>\n",
       "      <td>97.542961</td>\n",
       "      <td>97.542961</td>\n",
       "    </tr>\n",
       "    <tr>\n",
       "      <th>2</th>\n",
       "      <td>C0082</td>\n",
       "      <td>2020-02-11</td>\n",
       "      <td>P016</td>\n",
       "      <td>Clothing</td>\n",
       "      <td>2</td>\n",
       "      <td>79.059159</td>\n",
       "      <td>158.118317</td>\n",
       "    </tr>\n",
       "    <tr>\n",
       "      <th>3</th>\n",
       "      <td>C0060</td>\n",
       "      <td>2020-09-22</td>\n",
       "      <td>P003</td>\n",
       "      <td>Clothing</td>\n",
       "      <td>1</td>\n",
       "      <td>74.293252</td>\n",
       "      <td>74.293252</td>\n",
       "    </tr>\n",
       "    <tr>\n",
       "      <th>4</th>\n",
       "      <td>C0018</td>\n",
       "      <td>2021-06-07</td>\n",
       "      <td>P012</td>\n",
       "      <td>Home Decor</td>\n",
       "      <td>2</td>\n",
       "      <td>35.479492</td>\n",
       "      <td>70.958983</td>\n",
       "    </tr>\n",
       "  </tbody>\n",
       "</table>\n",
       "</div>"
      ],
      "text/plain": [
       "  CustomerID TransactionDate ProductID ProductCategory  Quantity  UnitPrice  \\\n",
       "0      C0098      2021-01-29      P006     Electronics         4  34.967067   \n",
       "1      C0085      2021-03-06      P019      Home Decor         1  97.542961   \n",
       "2      C0082      2020-02-11      P016        Clothing         2  79.059159   \n",
       "3      C0060      2020-09-22      P003        Clothing         1  74.293252   \n",
       "4      C0018      2021-06-07      P012      Home Decor         2  35.479492   \n",
       "\n",
       "   TotalPrice  \n",
       "0  139.868266  \n",
       "1   97.542961  \n",
       "2  158.118317  \n",
       "3   74.293252  \n",
       "4   70.958983  "
      ]
     },
     "execution_count": 28,
     "metadata": {},
     "output_type": "execute_result"
    }
   ],
   "source": [
    "data.head()"
   ]
  },
  {
   "cell_type": "code",
   "execution_count": 33,
   "id": "a816939c",
   "metadata": {},
   "outputs": [
    {
     "data": {
      "text/plain": [
       "0      False\n",
       "1      False\n",
       "2      False\n",
       "3      False\n",
       "4      False\n",
       "       ...  \n",
       "995    False\n",
       "996    False\n",
       "997    False\n",
       "998    False\n",
       "999    False\n",
       "Length: 1000, dtype: bool"
      ]
     },
     "execution_count": 33,
     "metadata": {},
     "output_type": "execute_result"
    }
   ],
   "source": [
    "# looking for Duplicates in the Datasets because Duplicate values have to be removed for accurate analysis\n",
    "data.duplicated()"
   ]
  },
  {
   "cell_type": "code",
   "execution_count": 34,
   "id": "33d0e303",
   "metadata": {},
   "outputs": [],
   "source": [
    "# we can see that there are no Duplicate values available in our dataset\n"
   ]
  },
  {
   "cell_type": "code",
   "execution_count": 35,
   "id": "af28d32a",
   "metadata": {},
   "outputs": [
    {
     "data": {
      "text/html": [
       "<div>\n",
       "<style scoped>\n",
       "    .dataframe tbody tr th:only-of-type {\n",
       "        vertical-align: middle;\n",
       "    }\n",
       "\n",
       "    .dataframe tbody tr th {\n",
       "        vertical-align: top;\n",
       "    }\n",
       "\n",
       "    .dataframe thead th {\n",
       "        text-align: right;\n",
       "    }\n",
       "</style>\n",
       "<table border=\"1\" class=\"dataframe\">\n",
       "  <thead>\n",
       "    <tr style=\"text-align: right;\">\n",
       "      <th></th>\n",
       "      <th>CustomerID</th>\n",
       "      <th>TransactionDate</th>\n",
       "      <th>ProductID</th>\n",
       "      <th>ProductCategory</th>\n",
       "      <th>Quantity</th>\n",
       "      <th>UnitPrice</th>\n",
       "      <th>TotalPrice</th>\n",
       "    </tr>\n",
       "  </thead>\n",
       "  <tbody>\n",
       "    <tr>\n",
       "      <th>995</th>\n",
       "      <td>C0033</td>\n",
       "      <td>2021-03-25</td>\n",
       "      <td>P010</td>\n",
       "      <td>Clothing</td>\n",
       "      <td>4</td>\n",
       "      <td>30.382663</td>\n",
       "      <td>121.530652</td>\n",
       "    </tr>\n",
       "    <tr>\n",
       "      <th>996</th>\n",
       "      <td>C0074</td>\n",
       "      <td>2020-07-28</td>\n",
       "      <td>P005</td>\n",
       "      <td>Electronics</td>\n",
       "      <td>2</td>\n",
       "      <td>73.627251</td>\n",
       "      <td>147.254503</td>\n",
       "    </tr>\n",
       "    <tr>\n",
       "      <th>997</th>\n",
       "      <td>C0080</td>\n",
       "      <td>2021-08-23</td>\n",
       "      <td>P006</td>\n",
       "      <td>Books</td>\n",
       "      <td>3</td>\n",
       "      <td>70.733181</td>\n",
       "      <td>212.199544</td>\n",
       "    </tr>\n",
       "    <tr>\n",
       "      <th>998</th>\n",
       "      <td>C0019</td>\n",
       "      <td>2021-12-28</td>\n",
       "      <td>P018</td>\n",
       "      <td>Books</td>\n",
       "      <td>3</td>\n",
       "      <td>88.464598</td>\n",
       "      <td>265.393795</td>\n",
       "    </tr>\n",
       "    <tr>\n",
       "      <th>999</th>\n",
       "      <td>C0073</td>\n",
       "      <td>2020-02-20</td>\n",
       "      <td>P010</td>\n",
       "      <td>Clothing</td>\n",
       "      <td>4</td>\n",
       "      <td>87.775226</td>\n",
       "      <td>351.100904</td>\n",
       "    </tr>\n",
       "  </tbody>\n",
       "</table>\n",
       "</div>"
      ],
      "text/plain": [
       "    CustomerID TransactionDate ProductID ProductCategory  Quantity  UnitPrice  \\\n",
       "995      C0033      2021-03-25      P010        Clothing         4  30.382663   \n",
       "996      C0074      2020-07-28      P005     Electronics         2  73.627251   \n",
       "997      C0080      2021-08-23      P006           Books         3  70.733181   \n",
       "998      C0019      2021-12-28      P018           Books         3  88.464598   \n",
       "999      C0073      2020-02-20      P010        Clothing         4  87.775226   \n",
       "\n",
       "     TotalPrice  \n",
       "995  121.530652  \n",
       "996  147.254503  \n",
       "997  212.199544  \n",
       "998  265.393795  \n",
       "999  351.100904  "
      ]
     },
     "execution_count": 35,
     "metadata": {},
     "output_type": "execute_result"
    }
   ],
   "source": [
    "data.tail()"
   ]
  },
  {
   "cell_type": "code",
   "execution_count": 42,
   "id": "5b0f3751",
   "metadata": {},
   "outputs": [],
   "source": [
    "# import matplotlib.pyplot "
   ]
  },
  {
   "cell_type": "code",
   "execution_count": 43,
   "id": "d1932e70",
   "metadata": {},
   "outputs": [],
   "source": [
    "# plt.plot(data[\"TransactionDate\"],data[\"TotalPrice\"])\n",
    "# plt.show()"
   ]
  },
  {
   "cell_type": "code",
   "execution_count": 54,
   "id": "b0333048",
   "metadata": {},
   "outputs": [
    {
     "data": {
      "text/plain": [
       "Electronics    256\n",
       "Home Decor     249\n",
       "Books          249\n",
       "Clothing       246\n",
       "Name: ProductCategory, dtype: int64"
      ]
     },
     "execution_count": 54,
     "metadata": {},
     "output_type": "execute_result"
    }
   ],
   "source": [
    "#  We can see the categpry wise count of the data literals\n",
    "    \n",
    "data[\"ProductCategory\"].value_counts()"
   ]
  },
  {
   "cell_type": "code",
   "execution_count": 56,
   "id": "e0a46645",
   "metadata": {},
   "outputs": [],
   "source": [
    "Category_count = data[\"ProductCategory\"].value_counts()"
   ]
  },
  {
   "cell_type": "code",
   "execution_count": 59,
   "id": "84bd8965",
   "metadata": {},
   "outputs": [
    {
     "data": {
      "text/plain": [
       "Electronics    256\n",
       "Home Decor     249\n",
       "Books          249\n",
       "Clothing       246\n",
       "Name: ProductCategory, dtype: int64"
      ]
     },
     "execution_count": 59,
     "metadata": {},
     "output_type": "execute_result"
    }
   ],
   "source": [
    "# i'm adding a new  for pvariable name for ploting the visualization of category\n",
    "Category_count"
   ]
  },
  {
   "cell_type": "code",
   "execution_count": 69,
   "id": "395f3bc6",
   "metadata": {},
   "outputs": [
    {
     "data": {
      "image/png": "[encoded data removed]",
      "text/plain": [
       "<Figure size 600x400 with 1 Axes>"
      ]
     },
     "metadata": {},
     "output_type": "display_data"
    }
   ],
   "source": [
    "plt.figure(figsize=(6,4))\n",
    "Category_count.plot(kind ='bar',color='skyblue')\n",
    "plt.title(\"Numbers of Transactions by category\")\n",
    "plt.xlabel(\"Category\")\n",
    "plt.ylabel(\"Numbers Of Transactions\")\n",
    "plt.tight_layout()\n",
    "plt.show()"
   ]
  },
  {
   "cell_type": "code",
   "execution_count": 71,
   "id": "8eed6228",
   "metadata": {},
   "outputs": [
    {
     "data": {
      "text/html": [
       "<div>\n",
       "<style scoped>\n",
       "    .dataframe tbody tr th:only-of-type {\n",
       "        vertical-align: middle;\n",
       "    }\n",
       "\n",
       "    .dataframe tbody tr th {\n",
       "        vertical-align: top;\n",
       "    }\n",
       "\n",
       "    .dataframe thead th {\n",
       "        text-align: right;\n",
       "    }\n",
       "</style>\n",
       "<table border=\"1\" class=\"dataframe\">\n",
       "  <thead>\n",
       "    <tr style=\"text-align: right;\">\n",
       "      <th></th>\n",
       "      <th>CustomerID</th>\n",
       "      <th>TransactionDate</th>\n",
       "      <th>ProductID</th>\n",
       "      <th>ProductCategory</th>\n",
       "      <th>Quantity</th>\n",
       "      <th>UnitPrice</th>\n",
       "      <th>TotalPrice</th>\n",
       "      <th>Category_count</th>\n",
       "    </tr>\n",
       "  </thead>\n",
       "  <tbody>\n",
       "    <tr>\n",
       "      <th>0</th>\n",
       "      <td>C0098</td>\n",
       "      <td>2021-01-29</td>\n",
       "      <td>P006</td>\n",
       "      <td>Electronics</td>\n",
       "      <td>4</td>\n",
       "      <td>34.967067</td>\n",
       "      <td>139.868266</td>\n",
       "      <td>NaN</td>\n",
       "    </tr>\n",
       "    <tr>\n",
       "      <th>1</th>\n",
       "      <td>C0085</td>\n",
       "      <td>2021-03-06</td>\n",
       "      <td>P019</td>\n",
       "      <td>Home Decor</td>\n",
       "      <td>1</td>\n",
       "      <td>97.542961</td>\n",
       "      <td>97.542961</td>\n",
       "      <td>NaN</td>\n",
       "    </tr>\n",
       "    <tr>\n",
       "      <th>2</th>\n",
       "      <td>C0082</td>\n",
       "      <td>2020-02-11</td>\n",
       "      <td>P016</td>\n",
       "      <td>Clothing</td>\n",
       "      <td>2</td>\n",
       "      <td>79.059159</td>\n",
       "      <td>158.118317</td>\n",
       "      <td>NaN</td>\n",
       "    </tr>\n",
       "    <tr>\n",
       "      <th>3</th>\n",
       "      <td>C0060</td>\n",
       "      <td>2020-09-22</td>\n",
       "      <td>P003</td>\n",
       "      <td>Clothing</td>\n",
       "      <td>1</td>\n",
       "      <td>74.293252</td>\n",
       "      <td>74.293252</td>\n",
       "      <td>NaN</td>\n",
       "    </tr>\n",
       "    <tr>\n",
       "      <th>4</th>\n",
       "      <td>C0018</td>\n",
       "      <td>2021-06-07</td>\n",
       "      <td>P012</td>\n",
       "      <td>Home Decor</td>\n",
       "      <td>2</td>\n",
       "      <td>35.479492</td>\n",
       "      <td>70.958983</td>\n",
       "      <td>NaN</td>\n",
       "    </tr>\n",
       "  </tbody>\n",
       "</table>\n",
       "</div>"
      ],
      "text/plain": [
       "  CustomerID TransactionDate ProductID ProductCategory  Quantity  UnitPrice  \\\n",
       "0      C0098      2021-01-29      P006     Electronics         4  34.967067   \n",
       "1      C0085      2021-03-06      P019      Home Decor         1  97.542961   \n",
       "2      C0082      2020-02-11      P016        Clothing         2  79.059159   \n",
       "3      C0060      2020-09-22      P003        Clothing         1  74.293252   \n",
       "4      C0018      2021-06-07      P012      Home Decor         2  35.479492   \n",
       "\n",
       "   TotalPrice  Category_count  \n",
       "0  139.868266             NaN  \n",
       "1   97.542961             NaN  \n",
       "2  158.118317             NaN  \n",
       "3   74.293252             NaN  \n",
       "4   70.958983             NaN  "
      ]
     },
     "execution_count": 71,
     "metadata": {},
     "output_type": "execute_result"
    }
   ],
   "source": [
    "data.head()"
   ]
  },
  {
   "cell_type": "code",
   "execution_count": 74,
   "id": "b471231b",
   "metadata": {},
   "outputs": [
    {
     "data": {
      "text/plain": [
       "499.4890142578806"
      ]
     },
     "execution_count": 74,
     "metadata": {},
     "output_type": "execute_result"
    }
   ],
   "source": [
    "# Maximum Total price\n",
    "data[\"TotalPrice\"].max()"
   ]
  },
  {
   "cell_type": "code",
   "execution_count": 75,
   "id": "9119de8b",
   "metadata": {},
   "outputs": [],
   "source": [
    "Customer_spending = data.groupby(\"CustomerID\")[\"TotalPrice\"].sum()"
   ]
  },
  {
   "cell_type": "code",
   "execution_count": 76,
   "id": "2a0f0f27",
   "metadata": {},
   "outputs": [
    {
     "data": {
      "text/plain": [
       "CustomerID\n",
       "C0001    1576.703836\n",
       "C0002    1026.949914\n",
       "C0003    1560.655362\n",
       "C0004    1033.975645\n",
       "C0005    1657.971402\n",
       "            ...     \n",
       "C0096    1309.384849\n",
       "C0097    1891.400052\n",
       "C0098    1430.128605\n",
       "C0099    2612.549574\n",
       "C0100    1630.622876\n",
       "Name: TotalPrice, Length: 100, dtype: float64"
      ]
     },
     "execution_count": 76,
     "metadata": {},
     "output_type": "execute_result"
    }
   ],
   "source": [
    "# we can see the spending of each customer by grouping customer id and total price feature\n",
    "Customer_spending"
   ]
  },
  {
   "cell_type": "code",
   "execution_count": 78,
   "id": "688b6096",
   "metadata": {},
   "outputs": [],
   "source": [
    "Most_important_customer = Customer_spending.idxmax()\n",
    "#  basically  the \"idx\" function returns the index of the maximum value"
   ]
  },
  {
   "cell_type": "code",
   "execution_count": 80,
   "id": "36f429a7",
   "metadata": {},
   "outputs": [
    {
     "data": {
      "text/plain": [
       "'C0016'"
      ]
     },
     "execution_count": 80,
     "metadata": {},
     "output_type": "execute_result"
    }
   ],
   "source": [
    "Most_important_customer # so this is our most important cusomer's customer_id"
   ]
  },
  {
   "cell_type": "code",
   "execution_count": 81,
   "id": "762815d8",
   "metadata": {},
   "outputs": [],
   "source": [
    "max_spending = Customer_spending.max()"
   ]
  },
  {
   "cell_type": "code",
   "execution_count": 82,
   "id": "424d77de",
   "metadata": {},
   "outputs": [
    {
     "data": {
      "text/plain": [
       "3551.813884421489"
      ]
     },
     "execution_count": 82,
     "metadata": {},
     "output_type": "execute_result"
    }
   ],
   "source": [
    "max_spending"
   ]
  },
  {
   "cell_type": "code",
   "execution_count": 85,
   "id": "682f2ec6",
   "metadata": {},
   "outputs": [
    {
     "name": "stdout",
     "output_type": "stream",
     "text": [
      "Most important important Customer id :  C0016  and The Total price  is :  3551.813884421489\n"
     ]
    }
   ],
   "source": [
    "print(\"Most important important Customer id : \", Most_important_customer ,\" and The Total price  is : \",max_spending  )"
   ]
  },
  {
   "cell_type": "markdown",
   "id": "2d2afc3c",
   "metadata": {},
   "source": [
    "### So we got the most important cusomer's customer id and its total spending on our business"
   ]
  },
  {
   "cell_type": "code",
   "execution_count": 87,
   "id": "1e2c5449",
   "metadata": {},
   "outputs": [
    {
     "data": {
      "text/html": [
       "<div>\n",
       "<style scoped>\n",
       "    .dataframe tbody tr th:only-of-type {\n",
       "        vertical-align: middle;\n",
       "    }\n",
       "\n",
       "    .dataframe tbody tr th {\n",
       "        vertical-align: top;\n",
       "    }\n",
       "\n",
       "    .dataframe thead th {\n",
       "        text-align: right;\n",
       "    }\n",
       "</style>\n",
       "<table border=\"1\" class=\"dataframe\">\n",
       "  <thead>\n",
       "    <tr style=\"text-align: right;\">\n",
       "      <th></th>\n",
       "      <th>CustomerID</th>\n",
       "      <th>TransactionDate</th>\n",
       "      <th>ProductID</th>\n",
       "      <th>ProductCategory</th>\n",
       "      <th>Quantity</th>\n",
       "      <th>UnitPrice</th>\n",
       "      <th>TotalPrice</th>\n",
       "      <th>Category_count</th>\n",
       "    </tr>\n",
       "  </thead>\n",
       "  <tbody>\n",
       "    <tr>\n",
       "      <th>0</th>\n",
       "      <td>C0098</td>\n",
       "      <td>2021-01-29</td>\n",
       "      <td>P006</td>\n",
       "      <td>Electronics</td>\n",
       "      <td>4</td>\n",
       "      <td>34.967067</td>\n",
       "      <td>139.868266</td>\n",
       "      <td>NaN</td>\n",
       "    </tr>\n",
       "    <tr>\n",
       "      <th>1</th>\n",
       "      <td>C0085</td>\n",
       "      <td>2021-03-06</td>\n",
       "      <td>P019</td>\n",
       "      <td>Home Decor</td>\n",
       "      <td>1</td>\n",
       "      <td>97.542961</td>\n",
       "      <td>97.542961</td>\n",
       "      <td>NaN</td>\n",
       "    </tr>\n",
       "    <tr>\n",
       "      <th>2</th>\n",
       "      <td>C0082</td>\n",
       "      <td>2020-02-11</td>\n",
       "      <td>P016</td>\n",
       "      <td>Clothing</td>\n",
       "      <td>2</td>\n",
       "      <td>79.059159</td>\n",
       "      <td>158.118317</td>\n",
       "      <td>NaN</td>\n",
       "    </tr>\n",
       "    <tr>\n",
       "      <th>3</th>\n",
       "      <td>C0060</td>\n",
       "      <td>2020-09-22</td>\n",
       "      <td>P003</td>\n",
       "      <td>Clothing</td>\n",
       "      <td>1</td>\n",
       "      <td>74.293252</td>\n",
       "      <td>74.293252</td>\n",
       "      <td>NaN</td>\n",
       "    </tr>\n",
       "    <tr>\n",
       "      <th>4</th>\n",
       "      <td>C0018</td>\n",
       "      <td>2021-06-07</td>\n",
       "      <td>P012</td>\n",
       "      <td>Home Decor</td>\n",
       "      <td>2</td>\n",
       "      <td>35.479492</td>\n",
       "      <td>70.958983</td>\n",
       "      <td>NaN</td>\n",
       "    </tr>\n",
       "  </tbody>\n",
       "</table>\n",
       "</div>"
      ],
      "text/plain": [
       "  CustomerID TransactionDate ProductID ProductCategory  Quantity  UnitPrice  \\\n",
       "0      C0098      2021-01-29      P006     Electronics         4  34.967067   \n",
       "1      C0085      2021-03-06      P019      Home Decor         1  97.542961   \n",
       "2      C0082      2020-02-11      P016        Clothing         2  79.059159   \n",
       "3      C0060      2020-09-22      P003        Clothing         1  74.293252   \n",
       "4      C0018      2021-06-07      P012      Home Decor         2  35.479492   \n",
       "\n",
       "   TotalPrice  Category_count  \n",
       "0  139.868266             NaN  \n",
       "1   97.542961             NaN  \n",
       "2  158.118317             NaN  \n",
       "3   74.293252             NaN  \n",
       "4   70.958983             NaN  "
      ]
     },
     "execution_count": 87,
     "metadata": {},
     "output_type": "execute_result"
    }
   ],
   "source": [
    "data.head()"
   ]
  },
  {
   "cell_type": "code",
   "execution_count": 88,
   "id": "b5526065",
   "metadata": {},
   "outputs": [],
   "source": [
    "Category_customer_ids = data.groupby(\"ProductCategory\")[\"CustomerID\"].unique()"
   ]
  },
  {
   "cell_type": "code",
   "execution_count": 89,
   "id": "947070df",
   "metadata": {},
   "outputs": [
    {
     "data": {
      "text/plain": [
       "ProductCategory\n",
       "Books          [C0083, C0046, C0091, C0098, C0055, C0013, C00...\n",
       "Clothing       [C0082, C0060, C0010, C0058, C0005, C0026, C00...\n",
       "Electronics    [C0098, C0011, C0026, C0042, C0008, C0035, C00...\n",
       "Home Decor     [C0085, C0018, C0063, C0099, C0046, C0002, C00...\n",
       "Name: CustomerID, dtype: object"
      ]
     },
     "execution_count": 89,
     "metadata": {},
     "output_type": "execute_result"
    }
   ],
   "source": [
    "Category_customer_ids"
   ]
  },
  {
   "cell_type": "code",
   "execution_count": 90,
   "id": "104db9d2",
   "metadata": {},
   "outputs": [],
   "source": [
    "Total_price_by_date = data.groupby(\"TransactionDate\")[\"TotalPrice\"].sum()"
   ]
  },
  {
   "cell_type": "code",
   "execution_count": 91,
   "id": "dc6fa54c",
   "metadata": {},
   "outputs": [
    {
     "data": {
      "text/plain": [
       "TransactionDate\n",
       "2020-01-01    474.355521\n",
       "2020-01-02    694.157654\n",
       "2020-01-03    258.328432\n",
       "2020-01-04    456.198937\n",
       "2020-01-07    114.225624\n",
       "                 ...    \n",
       "2021-12-26     71.056103\n",
       "2021-12-27    118.509954\n",
       "2021-12-28    598.531536\n",
       "2021-12-30    133.826125\n",
       "2021-12-31    152.820787\n",
       "Name: TotalPrice, Length: 543, dtype: float64"
      ]
     },
     "execution_count": 91,
     "metadata": {},
     "output_type": "execute_result"
    }
   ],
   "source": [
    "Total_price_by_date"
   ]
  },
  {
   "cell_type": "code",
   "execution_count": null,
   "id": "4f80a366",
   "metadata": {},
   "outputs": [],
   "source": [
    "# Plotting"
   ]
  },
  {
   "cell_type": "code",
   "execution_count": 92,
   "id": "173524b0",
   "metadata": {},
   "outputs": [
    {
     "data": {
      "image/png": "[encoded data removed]",
      "text/plain": [
       "<Figure size 600x400 with 1 Axes>"
      ]
     },
     "metadata": {},
     "output_type": "display_data"
    }
   ],
   "source": [
    "plt.figure(figsize=(6,4))\n",
    "Total_price_by_date.plot()\n",
    "plt.title(\"Total Price over time\")\n",
    "plt.xlabel(\"Date\")\n",
    "plt.ylabel(\"Total Price\")\n",
    "plt.tight_layout()\n",
    "plt.show()"
   ]
  },
  {
   "cell_type": "code",
   "execution_count": 93,
   "id": "a3f90177",
   "metadata": {},
   "outputs": [
    {
     "data": {
      "text/html": [
       "<div>\n",
       "<style scoped>\n",
       "    .dataframe tbody tr th:only-of-type {\n",
       "        vertical-align: middle;\n",
       "    }\n",
       "\n",
       "    .dataframe tbody tr th {\n",
       "        vertical-align: top;\n",
       "    }\n",
       "\n",
       "    .dataframe thead th {\n",
       "        text-align: right;\n",
       "    }\n",
       "</style>\n",
       "<table border=\"1\" class=\"dataframe\">\n",
       "  <thead>\n",
       "    <tr style=\"text-align: right;\">\n",
       "      <th></th>\n",
       "      <th>CustomerID</th>\n",
       "      <th>TransactionDate</th>\n",
       "      <th>ProductID</th>\n",
       "      <th>ProductCategory</th>\n",
       "      <th>Quantity</th>\n",
       "      <th>UnitPrice</th>\n",
       "      <th>TotalPrice</th>\n",
       "      <th>Category_count</th>\n",
       "    </tr>\n",
       "  </thead>\n",
       "  <tbody>\n",
       "    <tr>\n",
       "      <th>0</th>\n",
       "      <td>C0098</td>\n",
       "      <td>2021-01-29</td>\n",
       "      <td>P006</td>\n",
       "      <td>Electronics</td>\n",
       "      <td>4</td>\n",
       "      <td>34.967067</td>\n",
       "      <td>139.868266</td>\n",
       "      <td>NaN</td>\n",
       "    </tr>\n",
       "    <tr>\n",
       "      <th>1</th>\n",
       "      <td>C0085</td>\n",
       "      <td>2021-03-06</td>\n",
       "      <td>P019</td>\n",
       "      <td>Home Decor</td>\n",
       "      <td>1</td>\n",
       "      <td>97.542961</td>\n",
       "      <td>97.542961</td>\n",
       "      <td>NaN</td>\n",
       "    </tr>\n",
       "    <tr>\n",
       "      <th>2</th>\n",
       "      <td>C0082</td>\n",
       "      <td>2020-02-11</td>\n",
       "      <td>P016</td>\n",
       "      <td>Clothing</td>\n",
       "      <td>2</td>\n",
       "      <td>79.059159</td>\n",
       "      <td>158.118317</td>\n",
       "      <td>NaN</td>\n",
       "    </tr>\n",
       "    <tr>\n",
       "      <th>3</th>\n",
       "      <td>C0060</td>\n",
       "      <td>2020-09-22</td>\n",
       "      <td>P003</td>\n",
       "      <td>Clothing</td>\n",
       "      <td>1</td>\n",
       "      <td>74.293252</td>\n",
       "      <td>74.293252</td>\n",
       "      <td>NaN</td>\n",
       "    </tr>\n",
       "    <tr>\n",
       "      <th>4</th>\n",
       "      <td>C0018</td>\n",
       "      <td>2021-06-07</td>\n",
       "      <td>P012</td>\n",
       "      <td>Home Decor</td>\n",
       "      <td>2</td>\n",
       "      <td>35.479492</td>\n",
       "      <td>70.958983</td>\n",
       "      <td>NaN</td>\n",
       "    </tr>\n",
       "  </tbody>\n",
       "</table>\n",
       "</div>"
      ],
      "text/plain": [
       "  CustomerID TransactionDate ProductID ProductCategory  Quantity  UnitPrice  \\\n",
       "0      C0098      2021-01-29      P006     Electronics         4  34.967067   \n",
       "1      C0085      2021-03-06      P019      Home Decor         1  97.542961   \n",
       "2      C0082      2020-02-11      P016        Clothing         2  79.059159   \n",
       "3      C0060      2020-09-22      P003        Clothing         1  74.293252   \n",
       "4      C0018      2021-06-07      P012      Home Decor         2  35.479492   \n",
       "\n",
       "   TotalPrice  Category_count  \n",
       "0  139.868266             NaN  \n",
       "1   97.542961             NaN  \n",
       "2  158.118317             NaN  \n",
       "3   74.293252             NaN  \n",
       "4   70.958983             NaN  "
      ]
     },
     "execution_count": 93,
     "metadata": {},
     "output_type": "execute_result"
    }
   ],
   "source": [
    "data.head()"
   ]
  },
  {
   "cell_type": "code",
   "execution_count": 94,
   "id": "e7f1f061",
   "metadata": {},
   "outputs": [],
   "source": [
    "Category_total_price = data.groupby(\"ProductCategory\")[\"TotalPrice\"].sum()"
   ]
  },
  {
   "cell_type": "code",
   "execution_count": 95,
   "id": "e7cc0a57",
   "metadata": {},
   "outputs": [
    {
     "data": {
      "text/plain": [
       "ProductCategory\n",
       "Books          39895.360681\n",
       "Clothing       41167.519591\n",
       "Electronics    41919.836546\n",
       "Home Decor     43528.575260\n",
       "Name: TotalPrice, dtype: float64"
      ]
     },
     "execution_count": 95,
     "metadata": {},
     "output_type": "execute_result"
    }
   ],
   "source": [
    "# let's see the category wise total price and make visualization\n",
    "\n",
    "Category_total_price"
   ]
  },
  {
   "cell_type": "code",
   "execution_count": 98,
   "id": "e8943d52",
   "metadata": {},
   "outputs": [
    {
     "data": {
      "image/png": "[encoded data removed]",
      "text/plain": [
       "<Figure size 600x400 with 1 Axes>"
      ]
     },
     "metadata": {},
     "output_type": "display_data"
    }
   ],
   "source": [
    "plt.figure(figsize=(6,4))\n",
    "Category_total_price.plot(kind=\"bar\",color = \"skyblue\")\n",
    "plt.title(\"Total price by category\")\n",
    "plt.xlabel(\"Category\")\n",
    "plt.ylabel(\"Total price\")\n",
    "plt.tight_layout()\n",
    "plt.show()"
   ]
  },
  {
   "cell_type": "code",
   "execution_count": 99,
   "id": "daaa0a7a",
   "metadata": {},
   "outputs": [
    {
     "data": {
      "text/html": [
       "<div>\n",
       "<style scoped>\n",
       "    .dataframe tbody tr th:only-of-type {\n",
       "        vertical-align: middle;\n",
       "    }\n",
       "\n",
       "    .dataframe tbody tr th {\n",
       "        vertical-align: top;\n",
       "    }\n",
       "\n",
       "    .dataframe thead th {\n",
       "        text-align: right;\n",
       "    }\n",
       "</style>\n",
       "<table border=\"1\" class=\"dataframe\">\n",
       "  <thead>\n",
       "    <tr style=\"text-align: right;\">\n",
       "      <th></th>\n",
       "      <th>CustomerID</th>\n",
       "      <th>TransactionDate</th>\n",
       "      <th>ProductID</th>\n",
       "      <th>ProductCategory</th>\n",
       "      <th>Quantity</th>\n",
       "      <th>UnitPrice</th>\n",
       "      <th>TotalPrice</th>\n",
       "      <th>Category_count</th>\n",
       "    </tr>\n",
       "  </thead>\n",
       "  <tbody>\n",
       "    <tr>\n",
       "      <th>0</th>\n",
       "      <td>C0098</td>\n",
       "      <td>2021-01-29</td>\n",
       "      <td>P006</td>\n",
       "      <td>Electronics</td>\n",
       "      <td>4</td>\n",
       "      <td>34.967067</td>\n",
       "      <td>139.868266</td>\n",
       "      <td>NaN</td>\n",
       "    </tr>\n",
       "    <tr>\n",
       "      <th>1</th>\n",
       "      <td>C0085</td>\n",
       "      <td>2021-03-06</td>\n",
       "      <td>P019</td>\n",
       "      <td>Home Decor</td>\n",
       "      <td>1</td>\n",
       "      <td>97.542961</td>\n",
       "      <td>97.542961</td>\n",
       "      <td>NaN</td>\n",
       "    </tr>\n",
       "    <tr>\n",
       "      <th>2</th>\n",
       "      <td>C0082</td>\n",
       "      <td>2020-02-11</td>\n",
       "      <td>P016</td>\n",
       "      <td>Clothing</td>\n",
       "      <td>2</td>\n",
       "      <td>79.059159</td>\n",
       "      <td>158.118317</td>\n",
       "      <td>NaN</td>\n",
       "    </tr>\n",
       "    <tr>\n",
       "      <th>3</th>\n",
       "      <td>C0060</td>\n",
       "      <td>2020-09-22</td>\n",
       "      <td>P003</td>\n",
       "      <td>Clothing</td>\n",
       "      <td>1</td>\n",
       "      <td>74.293252</td>\n",
       "      <td>74.293252</td>\n",
       "      <td>NaN</td>\n",
       "    </tr>\n",
       "    <tr>\n",
       "      <th>4</th>\n",
       "      <td>C0018</td>\n",
       "      <td>2021-06-07</td>\n",
       "      <td>P012</td>\n",
       "      <td>Home Decor</td>\n",
       "      <td>2</td>\n",
       "      <td>35.479492</td>\n",
       "      <td>70.958983</td>\n",
       "      <td>NaN</td>\n",
       "    </tr>\n",
       "  </tbody>\n",
       "</table>\n",
       "</div>"
      ],
      "text/plain": [
       "  CustomerID TransactionDate ProductID ProductCategory  Quantity  UnitPrice  \\\n",
       "0      C0098      2021-01-29      P006     Electronics         4  34.967067   \n",
       "1      C0085      2021-03-06      P019      Home Decor         1  97.542961   \n",
       "2      C0082      2020-02-11      P016        Clothing         2  79.059159   \n",
       "3      C0060      2020-09-22      P003        Clothing         1  74.293252   \n",
       "4      C0018      2021-06-07      P012      Home Decor         2  35.479492   \n",
       "\n",
       "   TotalPrice  Category_count  \n",
       "0  139.868266             NaN  \n",
       "1   97.542961             NaN  \n",
       "2  158.118317             NaN  \n",
       "3   74.293252             NaN  \n",
       "4   70.958983             NaN  "
      ]
     },
     "execution_count": 99,
     "metadata": {},
     "output_type": "execute_result"
    }
   ],
   "source": [
    "data.head()"
   ]
  },
  {
   "cell_type": "code",
   "execution_count": null,
   "id": "35918c4c",
   "metadata": {},
   "outputs": [],
   "source": [
    "# minimum and maximum unit pricec"
   ]
  },
  {
   "cell_type": "code",
   "execution_count": 100,
   "id": "07475dc8",
   "metadata": {},
   "outputs": [
    {
     "data": {
      "text/plain": [
       "99.90934843389712"
      ]
     },
     "execution_count": 100,
     "metadata": {},
     "output_type": "execute_result"
    }
   ],
   "source": [
    "data[\"UnitPrice\"].max()"
   ]
  },
  {
   "cell_type": "code",
   "execution_count": 101,
   "id": "09c80be9",
   "metadata": {},
   "outputs": [
    {
     "data": {
      "text/plain": [
       "10.033285835558308"
      ]
     },
     "execution_count": 101,
     "metadata": {},
     "output_type": "execute_result"
    }
   ],
   "source": [
    "data[\"UnitPrice\"].min()"
   ]
  },
  {
   "cell_type": "code",
   "execution_count": null,
   "id": "7a523641",
   "metadata": {},
   "outputs": [],
   "source": [
    "# minimum and maximum total pricec"
   ]
  },
  {
   "cell_type": "code",
   "execution_count": 103,
   "id": "2f355b35",
   "metadata": {},
   "outputs": [
    {
     "data": {
      "text/plain": [
       "499.4890142578806"
      ]
     },
     "execution_count": 103,
     "metadata": {},
     "output_type": "execute_result"
    }
   ],
   "source": [
    "data[\"TotalPrice\"].max()"
   ]
  },
  {
   "cell_type": "code",
   "execution_count": 102,
   "id": "873d6978",
   "metadata": {},
   "outputs": [
    {
     "data": {
      "text/plain": [
       "10.033285835558308"
      ]
     },
     "execution_count": 102,
     "metadata": {},
     "output_type": "execute_result"
    }
   ],
   "source": [
    "data[\"TotalPrice\"].min()"
   ]
  },
  {
   "cell_type": "code",
   "execution_count": 104,
   "id": "61d1220d",
   "metadata": {},
   "outputs": [],
   "source": [
    "# sorting  for top cutomer \n",
    "sorted_customer = Customer_spending.sort_values(ascending=False)\n",
    "\n",
    "# i want to know top 4 customer \n",
    "Top_4_customer = sorted_customer.head(4) "
   ]
  },
  {
   "cell_type": "code",
   "execution_count": 106,
   "id": "44a2edfd",
   "metadata": {},
   "outputs": [
    {
     "data": {
      "text/plain": [
       "CustomerID\n",
       "C0016    3551.813884\n",
       "C0081    3240.849876\n",
       "C0019    3174.471167\n",
       "C0034    3169.845185\n",
       "Name: TotalPrice, dtype: float64"
      ]
     },
     "execution_count": 106,
     "metadata": {},
     "output_type": "execute_result"
    }
   ],
   "source": [
    "Top_4_customer"
   ]
  },
  {
   "cell_type": "markdown",
   "id": "deb13174",
   "metadata": {},
   "source": [
    "### By the above cell we can see the top 4 customers customer id and their total spending"
   ]
  },
  {
   "cell_type": "markdown",
   "id": "37f6fe10",
   "metadata": {},
   "source": [
    "so after doing some basic statistical analysis i've realised that data is well cleaned there are no null and duplicated values present i've done some basic operations to visualize the features appropriately by these visualizations and outcomes we can grow our business and solve basic problems  like which category we should improve and  on which category we have to get offer to get more sales and make profitebale outcomes"
   ]
  },
  {
   "cell_type": "code",
   "execution_count": 108,
   "id": "e1be636e",
   "metadata": {},
   "outputs": [
    {
     "data": {
      "text/plain": [
       "'C:\\\\Users\\\\Education'"
      ]
     },
     "execution_count": 108,
     "metadata": {},
     "output_type": "execute_result"
    }
   ],
   "source": [
    "pwd"
   ]
  },
  {
   "cell_type": "code",
   "execution_count": null,
   "id": "04399398",
   "metadata": {},
   "outputs": [],
   "source": []
  }
 ],
 "metadata": {
  "kernelspec": {
   "display_name": "Python 3 (ipykernel)",
   "language": "python",
   "name": "python3"
  },
  "language_info": {
   "codemirror_mode": {
    "name": "ipython",
    "version": 3
   },
   "file_extension": ".py",
   "mimetype": "text/x-python",
   "name": "python",
   "nbconvert_exporter": "python",
   "pygments_lexer": "ipython3",
   "version": "3.11.3"
  }
 },
 "nbformat": 4,
 "nbformat_minor": 5
}
